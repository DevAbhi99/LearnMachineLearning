{
 "cells": [
  {
   "cell_type": "code",
   "execution_count": 15,
   "id": "00194739-5247-43a0-965c-a47c0c4043c4",
   "metadata": {},
   "outputs": [],
   "source": [
    "import pandas as pd\n",
    "import numpy as np\n",
    "import matplotlib.pyplot as plt\n",
    "from sklearn import linear_model\n",
    "from sklearn.metrics import confusion_matrix,classification_report,accuracy_score\n",
    "from sklearn.model_selection import train_test_split"
   ]
  },
  {
   "cell_type": "code",
   "execution_count": 17,
   "id": "2f6d324c-214d-4b0e-b42b-631656e3da85",
   "metadata": {},
   "outputs": [],
   "source": [
    "data=pd.read_csv(\"week2.csv\")\n",
    "x1=data.loc[:,\"x1\"]\n",
    "x2=data.loc[:,\"x2\"]\n",
    "y=data.loc[:,\"y\"]\n",
    "\n",
    "X=np.column_stack([x1,x2])"
   ]
  },
  {
   "cell_type": "code",
   "execution_count": 19,
   "id": "09a95da6-108f-4e64-a869-216b9a28b26b",
   "metadata": {},
   "outputs": [
    {
     "name": "stdout",
     "output_type": "stream",
     "text": [
      "accuracy score is 0.79\n",
      "\n",
      "Classification Report is               precision    recall  f1-score   support\n",
      "\n",
      "          -1       0.85      0.88      0.87       156\n",
      "           1       0.53      0.45      0.49        44\n",
      "\n",
      "    accuracy                           0.79       200\n",
      "   macro avg       0.69      0.67      0.68       200\n",
      "weighted avg       0.78      0.79      0.78       200\n",
      "\n",
      "\n",
      "Confusion matrix is [[138  18]\n",
      " [ 24  20]]\n"
     ]
    }
   ],
   "source": [
    "#Splitting the data\n",
    "\n",
    "x_train,x_test,y_train,y_test=train_test_split(X,y,test_size=0.2,random_state=42)\n",
    "\n",
    "#training the model\n",
    "\n",
    "model=linear_model.LogisticRegression()\n",
    "\n",
    "model.fit(x_train,y_train)\n",
    "\n",
    "#Prediction\n",
    "\n",
    "y_pred=model.predict(x_test)\n",
    "\n",
    "#Report of the model\n",
    "\n",
    "accuracy=accuracy_score(y_test,y_pred)\n",
    "report=classification_report(y_test,y_pred)\n",
    "matrix=confusion_matrix(y_test,y_pred)\n",
    "\n",
    "print(f\"accuracy score is {accuracy}\")\n",
    "print(\"\\n\"+f\"Classification Report is {report}\")\n",
    "print(\"\\n\"+f\"Confusion matrix is {matrix}\")"
   ]
  },
  {
   "cell_type": "code",
   "execution_count": 25,
   "id": "69016b04-d3c1-4407-8a01-8a97db36c2f4",
   "metadata": {},
   "outputs": [
    {
     "name": "stdout",
     "output_type": "stream",
     "text": [
      "coefficient of the model is [0.00687234 3.51024968] and the intercept is -2.016173050067596\n"
     ]
    }
   ],
   "source": [
    "coef=model.coef_[0]\n",
    "intercept=model.intercept_[0]\n",
    "\n",
    "print(f\"coefficient of the model is {coeff} and the intercept is {intercept}\")"
   ]
  },
  {
   "cell_type": "code",
   "execution_count": 27,
   "id": "eb5e004f-eb9c-4109-a286-20fe2b87b4be",
   "metadata": {},
   "outputs": [
    {
     "ename": "NameError",
     "evalue": "name 'coef' is not defined",
     "output_type": "error",
     "traceback": [
      "\u001b[1;31m---------------------------------------------------------------------------\u001b[0m",
      "\u001b[1;31mNameError\u001b[0m                                 Traceback (most recent call last)",
      "Cell \u001b[1;32mIn[27], line 2\u001b[0m\n\u001b[0;32m      1\u001b[0m x_vals \u001b[38;5;241m=\u001b[39m np\u001b[38;5;241m.\u001b[39mlinspace(X[:, \u001b[38;5;241m0\u001b[39m]\u001b[38;5;241m.\u001b[39mmin(), X[:, \u001b[38;5;241m0\u001b[39m]\u001b[38;5;241m.\u001b[39mmax(), \u001b[38;5;241m100\u001b[39m)  \u001b[38;5;66;03m# Generate 100 values for x1\u001b[39;00m\n\u001b[1;32m----> 2\u001b[0m y_vals \u001b[38;5;241m=\u001b[39m (\u001b[38;5;241m-\u001b[39mcoef[\u001b[38;5;241m0\u001b[39m] \u001b[38;5;241m*\u001b[39m x_vals \u001b[38;5;241m-\u001b[39m intercept) \u001b[38;5;241m/\u001b[39m coef[\u001b[38;5;241m1\u001b[39m]  \u001b[38;5;66;03m# Compute corresponding y2 values for the decision boundary\u001b[39;00m\n\u001b[0;32m      4\u001b[0m \u001b[38;5;66;03m# Plotting the data points and decision boundary\u001b[39;00m\n\u001b[0;32m      5\u001b[0m plt\u001b[38;5;241m.\u001b[39mscatter(x_train[:, \u001b[38;5;241m0\u001b[39m], x_train[:, \u001b[38;5;241m1\u001b[39m], c\u001b[38;5;241m=\u001b[39my_train, edgecolors\u001b[38;5;241m=\u001b[39m\u001b[38;5;124m'\u001b[39m\u001b[38;5;124mk\u001b[39m\u001b[38;5;124m'\u001b[39m, marker\u001b[38;5;241m=\u001b[39m\u001b[38;5;124m'\u001b[39m\u001b[38;5;124mo\u001b[39m\u001b[38;5;124m'\u001b[39m, cmap\u001b[38;5;241m=\u001b[39mplt\u001b[38;5;241m.\u001b[39mcm\u001b[38;5;241m.\u001b[39mcoolwarm, label\u001b[38;5;241m=\u001b[39m\u001b[38;5;124m'\u001b[39m\u001b[38;5;124mTraining data\u001b[39m\u001b[38;5;124m'\u001b[39m)\n",
      "\u001b[1;31mNameError\u001b[0m: name 'coef' is not defined"
     ]
    }
   ],
   "source": [
    "x_vals = np.linspace(X[:, 0].min(), X[:, 0].max(), 100)  # Generate 100 values for x1\n",
    "y_vals = (-coef[0] * x_vals - intercept) / coef[1]  # Compute corresponding y2 values for the decision boundary\n",
    "\n",
    "# Plotting the data points and decision boundary\n",
    "plt.scatter(x_train[:, 0], x_train[:, 1], c=y_train, edgecolors='k', marker='o', cmap=plt.cm.coolwarm, label='Training data')\n",
    "plt.scatter(x_test[:, 0], x_test[:, 1], c=y_test, edgecolors='k', marker='x', cmap=plt.cm.coolwarm, label='Test data')\n",
    "\n",
    "# Plot the decision boundary\n",
    "plt.plot(x_vals, y_vals, color='black', label='Decision Boundary')\n",
    "\n",
    "plt.xlabel('x1')\n",
    "plt.ylabel('x2')\n",
    "plt.title('Decision Boundary for Logistic Regression')\n",
    "plt.legend()"
   ]
  },
  {
   "cell_type": "code",
   "execution_count": null,
   "id": "9d7c7b0c-c047-498a-97ed-93c633536ee9",
   "metadata": {},
   "outputs": [],
   "source": []
  }
 ],
 "metadata": {
  "kernelspec": {
   "display_name": "Python 3 (ipykernel)",
   "language": "python",
   "name": "python3"
  },
  "language_info": {
   "codemirror_mode": {
    "name": "ipython",
    "version": 3
   },
   "file_extension": ".py",
   "mimetype": "text/x-python",
   "name": "python",
   "nbconvert_exporter": "python",
   "pygments_lexer": "ipython3",
   "version": "3.12.4"
  }
 },
 "nbformat": 4,
 "nbformat_minor": 5
}
